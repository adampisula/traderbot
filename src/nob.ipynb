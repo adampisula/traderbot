{
 "cells": [
  {
   "cell_type": "markdown",
   "metadata": {},
   "source": [
    "# Average Crossover\n",
    "\n",
    "Get data first. "
   ]
  },
  {
   "cell_type": "code",
   "execution_count": null,
   "metadata": {},
   "outputs": [],
   "source": [
    "from providers.crypto_exchange import CryptoExchangeProvider"
   ]
  }
 ],
 "metadata": {
  "kernelspec": {
   "display_name": "trader-h6Ql8v22-py3.12",
   "language": "python",
   "name": "python3"
  },
  "language_info": {
   "name": "python",
   "version": "3.12.5"
  }
 },
 "nbformat": 4,
 "nbformat_minor": 2
}
