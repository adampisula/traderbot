{
 "cells": [
  {
   "cell_type": "markdown",
   "metadata": {},
   "source": [
    "# Average Crossover\n",
    "\n",
    "Get data first. "
   ]
  },
  {
   "cell_type": "code",
   "execution_count": 11,
   "metadata": {},
   "outputs": [],
   "source": [
    "\n",
    "from providers.ccxt import CCXTProvider\n",
    "from models.market import Market, MarketFrame, OHLCV\n",
    "from models.pair import Pair"
   ]
  },
  {
   "cell_type": "code",
   "execution_count": 12,
   "metadata": {},
   "outputs": [
    {
     "name": "stderr",
     "output_type": "stream",
     "text": [
      "Exception ignored in: <coroutine object fetch_data at 0x748b69dc6420>\n",
      "Traceback (most recent call last):\n",
      "  File \"<string>\", line 1, in <lambda>\n",
      "KeyError: '__import__'\n",
      "Exception ignored in: <coroutine object fetch_data at 0x748b69dc6420>\n",
      "Traceback (most recent call last):\n",
      "  File \"<string>\", line 1, in <lambda>\n",
      "KeyError: '__import__'\n"
     ]
    },
    {
     "ename": "TypeError",
     "evalue": "'float' object cannot be interpreted as an integer",
     "output_type": "error",
     "traceback": [
      "\u001b[0;31m---------------------------------------------------------------------------\u001b[0m",
      "\u001b[0;31mTypeError\u001b[0m                                 Traceback (most recent call last)",
      "Cell \u001b[0;32mIn[12], line 33\u001b[0m\n\u001b[1;32m     30\u001b[0m     market\u001b[38;5;241m.\u001b[39msave_to_file(\u001b[38;5;124m\"\u001b[39m\u001b[38;5;124m/home/apisula/Documents/traderbot/data/01-10-2024_03-10-2024_5m\u001b[39m\u001b[38;5;124m\"\u001b[39m)\n\u001b[1;32m     31\u001b[0m     ce\u001b[38;5;241m.\u001b[39m_exchange\u001b[38;5;241m.\u001b[39mclose()\n\u001b[0;32m---> 33\u001b[0m \u001b[38;5;28;01mawait\u001b[39;00m fetch_data()\n",
      "Cell \u001b[0;32mIn[12], line 29\u001b[0m, in \u001b[0;36mfetch_data\u001b[0;34m()\u001b[0m\n\u001b[1;32m     27\u001b[0m \u001b[38;5;28;01masync\u001b[39;00m \u001b[38;5;28;01mdef\u001b[39;00m \u001b[38;5;21mfetch_data\u001b[39m():\n\u001b[1;32m     28\u001b[0m     ce \u001b[38;5;241m=\u001b[39m CryptoExchangeProvider(apikey\u001b[38;5;241m=\u001b[39mAPI_KEY, secret\u001b[38;5;241m=\u001b[39mAPI_SECRET)\n\u001b[0;32m---> 29\u001b[0m     market \u001b[38;5;241m=\u001b[39m \u001b[38;5;28;01mawait\u001b[39;00m ce\u001b[38;5;241m.\u001b[39mget_history(PAIRS, since\u001b[38;5;241m=\u001b[39mSINCE, until\u001b[38;5;241m=\u001b[39mUNTIL, timeframe_minutes\u001b[38;5;241m=\u001b[39mTIMEFRAME_MINUTES)\n\u001b[1;32m     30\u001b[0m     market\u001b[38;5;241m.\u001b[39msave_to_file(\u001b[38;5;124m\"\u001b[39m\u001b[38;5;124m/home/apisula/Documents/traderbot/data/01-10-2024_03-10-2024_5m\u001b[39m\u001b[38;5;124m\"\u001b[39m)\n\u001b[1;32m     31\u001b[0m     ce\u001b[38;5;241m.\u001b[39m_exchange\u001b[38;5;241m.\u001b[39mclose()\n",
      "File \u001b[0;32m~/Projects/trader/src/providers/crypto_exchange.py:103\u001b[0m, in \u001b[0;36mCryptoExchangeProvider.get_history\u001b[0;34m(self, pairs, count, since, until, timeframe_minutes)\u001b[0m\n\u001b[1;32m     95\u001b[0m timeframe_str \u001b[38;5;241m=\u001b[39m \u001b[38;5;124mf\u001b[39m\u001b[38;5;124m\"\u001b[39m\u001b[38;5;132;01m{\u001b[39;00mtimeframe_minutes\u001b[38;5;132;01m}\u001b[39;00m\u001b[38;5;124mm\u001b[39m\u001b[38;5;124m\"\u001b[39m\n\u001b[1;32m     96\u001b[0m limit \u001b[38;5;241m=\u001b[39m count \u001b[38;5;241m+\u001b[39m \u001b[38;5;241m1\u001b[39m \n\u001b[1;32m     98\u001b[0m market_frames \u001b[38;5;241m=\u001b[39m [\n\u001b[1;32m     99\u001b[0m     MarketFrame(\n\u001b[1;32m    100\u001b[0m         timestamp\u001b[38;5;241m=\u001b[39m\u001b[38;5;241m-\u001b[39m\u001b[38;5;241m1\u001b[39m,\n\u001b[1;32m    101\u001b[0m         ohlcv\u001b[38;5;241m=\u001b[39m{},\n\u001b[1;32m    102\u001b[0m     )\n\u001b[0;32m--> 103\u001b[0m     \u001b[38;5;28;01mfor\u001b[39;00m _ \u001b[38;5;129;01min\u001b[39;00m \u001b[38;5;28;43mrange\u001b[39;49m\u001b[43m(\u001b[49m\u001b[43mcount\u001b[49m\u001b[43m)\u001b[49m\n\u001b[1;32m    104\u001b[0m ]\n\u001b[1;32m    106\u001b[0m \u001b[38;5;28;01mawait\u001b[39;00m \u001b[38;5;28mself\u001b[39m\u001b[38;5;241m.\u001b[39m_exchange\u001b[38;5;241m.\u001b[39mload_markets()\n\u001b[1;32m    107\u001b[0m \u001b[38;5;28;01mfor\u001b[39;00m pair \u001b[38;5;129;01min\u001b[39;00m pairs:\n",
      "\u001b[0;31mTypeError\u001b[0m: 'float' object cannot be interpreted as an integer"
     ]
    }
   ],
   "source": [
    "import asyncio\n",
    "import os\n",
    "from dotenv import load_dotenv\n",
    "from datetime import datetime\n",
    "from typing import List\n",
    "\n",
    "\n",
    "load_dotenv()\n",
    "\n",
    "API_KEY = os.getenv(\"BINANCE_API_KEY\")\n",
    "API_SECRET = os.getenv(\"BINANCE_API_SECRET\")\n",
    "TIMEFRAME_MINUTES = 5\n",
    "SINCE = datetime(day=1, month=10, year=2024)\n",
    "UNTIL = datetime(day=3, month=10, year=2024)\n",
    "PAIRS: List[Pair] = [\n",
    "    Pair(\"BTC\", \"USDT\"),\n",
    "    Pair(\"BTC\", \"USDC\"),\n",
    "    Pair(\"BTC\", \"USDC\"),\n",
    "    Pair(\"ETH\", \"USDT\"),\n",
    "    Pair(\"ETH\", \"USDC\"),\n",
    "    Pair(\"BNB\", \"USDT\"),\n",
    "    Pair(\"ADA\", \"USDT\"),\n",
    "    Pair(\"SOL\", \"USDT\"),\n",
    "    Pair(\"XRP\", \"USDT\"),\n",
    "]\n",
    "\n",
    "async def fetch_data():\n",
    "    ce = CCXTProvider(apikey=API_KEY, secret=API_SECRET)\n",
    "    market = await ce.get_history(PAIRS, since=SINCE, until=UNTIL, timeframe_minutes=TIMEFRAME_MINUTES)\n",
    "    market.save_to_file(\"/home/apisula/Documents/traderbot/data/01-10-2024_03-10-2024_5m\")\n",
    "    ce._exchange.close()\n",
    "\n",
    "await fetch_data()"
   ]
  },
  {
   "cell_type": "code",
   "execution_count": null,
   "metadata": {},
   "outputs": [],
   "source": []
  }
 ],
 "metadata": {
  "kernelspec": {
   "display_name": "trader-h6Ql8v22-py3.12",
   "language": "python",
   "name": "python3"
  },
  "language_info": {
   "codemirror_mode": {
    "name": "ipython",
    "version": 3
   },
   "file_extension": ".py",
   "mimetype": "text/x-python",
   "name": "python",
   "nbconvert_exporter": "python",
   "pygments_lexer": "ipython3",
   "version": "3.12.5"
  }
 },
 "nbformat": 4,
 "nbformat_minor": 2
}
